{
 "cells": [
  {
   "cell_type": "code",
   "execution_count": 1,
   "id": "0f699ef9",
   "metadata": {},
   "outputs": [],
   "source": [
    "import os\n",
    "import numpy as np\n",
    "import glob\n",
    "import pandas as pd"
   ]
  },
  {
   "cell_type": "code",
   "execution_count": null,
   "id": "ff2947b1",
   "metadata": {},
   "outputs": [],
   "source": [
    "def append_filename(string, filename):\n",
    "    filename = filename.split(os.sep)[1].split('.')[0] + \"b\\\\src\"\n",
    "    return filename + \".\" + string"
   ]
  },
  {
   "cell_type": "code",
   "execution_count": null,
   "id": "626849c9",
   "metadata": {},
   "outputs": [],
   "source": [
    "# specifying the path to csv files\n",
    "path = \"coverage_info\"\n",
    "  \n",
    "# csv files in the path\n",
    "files = glob.glob(path + \"/*.coverage.csv\")\n",
    "\n",
    "# create txt file with list of examined programs\n",
    "f = open(\"java_program_list.txt\", \"a\")\n",
    "\n",
    "# checking all the csv files in the \n",
    "# specified path\n",
    "for filename in files:\n",
    "    \n",
    "    program = filename.split(os.sep)[1].split('.')[0]\n",
    "    f.write(program + \"\\n\")\n",
    "    \n",
    "    # reading content of csv file\n",
    "    df = pd.read_csv(filename, skiprows=2)\n",
    "    \n",
    "    # append specific file name for directory information\n",
    "    df['filedir'] = df['Line'].apply(append_filename, filename=filename)\n",
    "    \n",
    "    # create txt file with coefficient and syntactic feature\n",
    "    p = open(\"extracted_features\\\\\" + program + \".txt\", \"a\")\n",
    "    \n",
    "    # extract faulty line records\n",
    "    fl_file = \"faulty_lines\\\\\" + program + \".faulty-lines.csv\"\n",
    "    df_fault = pd.read_csv(fl_file, skiprows=1, header=None)\n",
    "    n_fault = len(df_fault.index)\n",
    "    p.write(str(n_fault) + \"\\n\")\n",
    "    for index, row in df_fault.iterrows():\n",
    "        p.write(row[0] + \" \" + row[2] + \"\\n\")\n",
    "    \n",
    "    # extract code info line by line from csv file\n",
    "    for index, row in df.iterrows():\n",
    "        filedir = row['filedir'].split(\"#\")[0]\n",
    "        filedir = \"raw_code\\\\\" + os.path.join(*(filedir.split(\".\"))) + '.java'\n",
    "        line = int(row['Line'].split(\"#\")[1])\n",
    "\n",
    "        Ep = row['Ep']\n",
    "        Ef = row['Ef']\n",
    "        Np = row['Np']\n",
    "        Nf = row['Nf']\n",
    "\n",
    "        # open the sample file used\n",
    "        try:\n",
    "            file = open(filedir)\n",
    "\n",
    "            # read the content of the file opened\n",
    "            content = file.readlines()\n",
    "\n",
    "            # read n-th line from the file\n",
    "            print(filedir)\n",
    "            print(\"#\",line)\n",
    "\n",
    "            code_line = content[line-1]\n",
    "\n",
    "            try:\n",
    "                print(code_line)\n",
    "            except:\n",
    "                code_line = \"\"\n",
    "\n",
    "            L = len(code_line.split())\n",
    "            p.write(row['Line'] + \" \" + str(Ep) + \" \" + str(Ef) + \" \" + str(Np) + \" \" + str(Nf) + \" \" + str(L) + \"\\n\")\n",
    "        except:\n",
    "            print(\"file does not exist\")\n",
    "    \n",
    "    p.close()\n",
    "\n",
    "f.close()"
   ]
  }
 ],
 "metadata": {
  "kernelspec": {
   "display_name": "Python 3 (ipykernel)",
   "language": "python",
   "name": "python3"
  },
  "language_info": {
   "codemirror_mode": {
    "name": "ipython",
    "version": 3
   },
   "file_extension": ".py",
   "mimetype": "text/x-python",
   "name": "python",
   "nbconvert_exporter": "python",
   "pygments_lexer": "ipython3",
   "version": "3.9.13"
  }
 },
 "nbformat": 4,
 "nbformat_minor": 5
}
